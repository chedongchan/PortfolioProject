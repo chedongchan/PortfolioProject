{
  "metadata": {
    "language_info": {
      "codemirror_mode": {
        "name": "python",
        "version": 3
      },
      "file_extension": ".py",
      "mimetype": "text/x-python",
      "name": "python",
      "nbconvert_exporter": "python",
      "pygments_lexer": "ipython3",
      "version": "3.8"
    },
    "kernelspec": {
      "name": "python",
      "display_name": "Python (Pyodide)",
      "language": "python"
    }
  },
  "nbformat_minor": 4,
  "nbformat": 4,
  "cells": [
    {
      "cell_type": "code",
      "source": "import pandas as pd\nimport numpy as np\nimport matplotlib\nimport seaborn as sns\nimport matplotlib.pyplot as plt\n\n#Data Analysis using Python. \n#Skills used: Reading and Manipulating Files with Pandas. Extracting conditional rows and columns. \n\n#Read CSV DATA using pandas\n\ndf = pd.read_csv(r'C:\\Users\\dongc\\OneDrive\\Desktop\\python\\KaggleDataAnalysis\\ds_salaries.csv')\n\n\n\n\n\n\n",
      "metadata": {},
      "execution_count": null,
      "outputs": []
    },
    {
      "cell_type": "code",
      "source": "#Check Data is Being Read. \nprint(df)\n",
      "metadata": {},
      "execution_count": null,
      "outputs": []
    },
    {
      "cell_type": "code",
      "source": "#Check for columns with null values. Display as percentage using numpy.\nfor col in df.columns:\n    missing_pct = np.mean(df[col].isnull())\n    print('{} - {}%'.format(col,missing_pct))\n\n",
      "metadata": {},
      "execution_count": null,
      "outputs": []
    },
    {
      "cell_type": "code",
      "source": "#Convert column data types to float from int.\ndf['salary'] = df['salary'].astype('float64')\n\nprint(df['salary'])\nprint(df.dtypes)",
      "metadata": {},
      "execution_count": null,
      "outputs": []
    },
    {
      "cell_type": "code",
      "source": "#Review data types of each column\nprint(df.dtypes)\n\n\n",
      "metadata": {},
      "execution_count": null,
      "outputs": []
    },
    {
      "cell_type": "code",
      "source": "#Sort Data by Descending Order of Salary in USD.\nprint(df.sort_values(by = ['salary_in_usd'], inplace = False, ascending= False))",
      "metadata": {},
      "execution_count": null,
      "outputs": []
    },
    {
      "cell_type": "code",
      "source": "#Function to extract table data based on experience level. \ndef FTsalaries(level):\n    salary_table = df[df['experience_level'].isin([str(level)])]\n    return salary_table\n",
      "metadata": {},
      "execution_count": null,
      "outputs": []
    },
    {
      "cell_type": "code",
      "source": "#Set experience level\nlevel = 'EN'",
      "metadata": {},
      "execution_count": null,
      "outputs": []
    },
    {
      "cell_type": "code",
      "source": "#Create DataFrame containing specified experience level data only.\nsalary_tables =(FTsalaries(level))\n",
      "metadata": {},
      "execution_count": null,
      "outputs": []
    },
    {
      "cell_type": "code",
      "source": "#Get Full-Time employees only.\nFulltime_workers= salary_tables[salary_tables['employment_type'] == 'FT']\n\n",
      "metadata": {},
      "execution_count": null,
      "outputs": []
    },
    {
      "cell_type": "code",
      "source": "#Check data without row number limits.\npd.set_option('display.max_rows', None)\n",
      "metadata": {},
      "execution_count": null,
      "outputs": []
    },
    {
      "cell_type": "code",
      "source": "#Plot scatter graph with data using matplotlib.pyplot.\n\nplt.scatter(y = Fulltime_workers['salary_in_usd'], x = Fulltime_workers['remote_ratio'])",
      "metadata": {},
      "execution_count": null,
      "outputs": []
    },
    {
      "cell_type": "code",
      "source": "#Config details\nplt.title('Full Time Data Scientist Salary for {} level job vs Remote Working Ratio'.format(str(level)))\nplt.ylabel('Salary in USD($)')\ncurrent_values = plt.gca().get_yticks()\nplt.ylim(0,300000)\n# --plt.xlabel ('Experience Level (EN = Entry, MI = Junior/Mid, SE = Senior, EX = Expert)')\n",
      "metadata": {},
      "execution_count": null,
      "outputs": []
    },
    {
      "cell_type": "code",
      "source": "#Plot statistical test line -  Pearson's correlation from Seaborn Module\nsns.regplot(y ='salary_in_usd', x = 'remote_ratio', data = Fulltime_workers, scatter_kws= {\"color\":\"red\"}, line_kws= {\"color\":\"blue\"} )\ncorr_data = df.corr(method='pearson')\n\nplt.show()",
      "metadata": {},
      "execution_count": null,
      "outputs": []
    },
    {
      "cell_type": "code",
      "source": "#Create a heatmap of all correlation data between different columns (and by themselves... always = 1).\nsns.heatmap(corr_data, annot= True)\n",
      "metadata": {},
      "execution_count": null,
      "outputs": []
    }
  ]
}
